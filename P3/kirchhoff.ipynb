{
 "cells": [
  {
   "cell_type": "code",
   "execution_count": 51,
   "metadata": {},
   "outputs": [],
   "source": [
    "import numpy as np"
   ]
  },
  {
   "cell_type": "code",
   "execution_count": 52,
   "metadata": {},
   "outputs": [],
   "source": [
    "R_1 = 0.969 *1e3\n",
    "R_2 = 0.980 *1e3 \n",
    "R_3 = 467\n",
    "\n",
    "V_1 = 1.546\n",
    "V_2 = -1.515"
   ]
  },
  {
   "cell_type": "code",
   "execution_count": 53,
   "metadata": {},
   "outputs": [
    {
     "data": {
      "text/plain": [
       "-0.7815655744183658"
      ]
     },
     "execution_count": 53,
     "metadata": {},
     "output_type": "execute_result"
    }
   ],
   "source": [
    "I_1 = 1/(R_1*R_2)*(1/R_1 + 1/R_2 + 1/R_3)**(-1) *(V_1 + V_2 + R_1 *V_2/R_3)\n",
    "I_1*1e3"
   ]
  },
  {
   "cell_type": "code",
   "execution_count": 54,
   "metadata": {},
   "outputs": [
    {
     "data": {
      "text/plain": [
       "0.8224295799071193"
      ]
     },
     "execution_count": 54,
     "metadata": {},
     "output_type": "execute_result"
    }
   ],
   "source": [
    "I_2 = 1/(R_1*R_2)*(1/R_1 + 1/R_2 + 1/R_3)**(-1) *(V_1 + V_2 + R_2 *V_1/R_3)\n",
    "I_2*1e3"
   ]
  },
  {
   "cell_type": "code",
   "execution_count": 55,
   "metadata": {},
   "outputs": [
    {
     "data": {
      "text/plain": [
       "1.6039951543254851"
      ]
     },
     "execution_count": 55,
     "metadata": {},
     "output_type": "execute_result"
    }
   ],
   "source": [
    "I_3 = 1/(R_1*R_2)*(1/R_1 + 1/R_2 + 1/R_3)**(-1) *(R_2*V_1 - R_1*V_2)/R_3\n",
    "I_3*1e3"
   ]
  }
 ],
 "metadata": {
  "kernelspec": {
   "display_name": "Python 3",
   "language": "python",
   "name": "python3"
  },
  "language_info": {
   "codemirror_mode": {
    "name": "ipython",
    "version": 3
   },
   "file_extension": ".py",
   "mimetype": "text/x-python",
   "name": "python",
   "nbconvert_exporter": "python",
   "pygments_lexer": "ipython3",
   "version": "3.10.12"
  }
 },
 "nbformat": 4,
 "nbformat_minor": 2
}
