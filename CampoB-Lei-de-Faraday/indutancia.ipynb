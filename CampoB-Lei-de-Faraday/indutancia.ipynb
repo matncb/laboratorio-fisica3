{
 "cells": [
  {
   "cell_type": "code",
   "execution_count": 168,
   "id": "d16bec39",
   "metadata": {},
   "outputs": [],
   "source": [
    "import numpy as np \n",
    "import matplotlib.pyplot as plt\n",
    "import scienceplots\n",
    "\n",
    "from scipy.optimize import  curve_fit\n",
    "from sklearn.metrics import r2_score\n",
    "\n",
    "plt.style.use(['science', 'notebook', 'grid'])"
   ]
  },
  {
   "cell_type": "code",
   "execution_count": 169,
   "id": "a9d62d99",
   "metadata": {},
   "outputs": [],
   "source": [
    "#Modelo Teórico\n",
    "\n",
    "mu = 4*np.pi *1e-7\n",
    "\n",
    "N = 760\n",
    "\n",
    "L = 14.80 *1e-2\n",
    "L_err = 0.05*1e-2\n",
    "\n",
    "R = (3.9 + 6.9)/4 * 1e-2\n",
    "R_err = 0.03 * 1e-2 \n",
    "\n",
    "n = N/L\n",
    "n_err = N/(L**2) * L_err\n",
    "\n",
    "eta = R/L\n",
    "eta_err = R_err/L + R/L**2 *L_err\n",
    "\n",
    "a = mu*n/2 * (1/np.sqrt(1/4 + eta**2))\n",
    "a_err = mu/2 * (1/np.sqrt(1/4 + eta**2)) * n_err + mu*n/4 * (1/4 + eta**2)**(-3/2) * 2*eta *eta_err\n",
    "\n",
    "a_ideal = mu*n\n",
    "a_ideal_err = mu*n_err\n"
   ]
  },
  {
   "cell_type": "code",
   "execution_count": 170,
   "id": "3406ad12",
   "metadata": {},
   "outputs": [],
   "source": [
    "N_2 = 2100\n",
    "L_2 = 59.50 *1e-3\n",
    "R_2 = 15/2 *1e-3\n",
    "R_2_err = 0.03*1e-3"
   ]
  },
  {
   "cell_type": "code",
   "execution_count": 171,
   "id": "116b2049",
   "metadata": {},
   "outputs": [
    {
     "name": "stdout",
     "output_type": "stream",
     "text": [
      "L = 0.0022496464050548374 +- 2.9426925140633462e-05\n"
     ]
    }
   ],
   "source": [
    "L = N_2*np.pi*R_2**2*a\n",
    "L_err = N_2*np.pi*R_2**2*a_err + 2*N_2*np.pi*R_2*a*R_2_err\n",
    "\n",
    "print(f'L = {L} +- {L_err}')\n"
   ]
  },
  {
   "cell_type": "code",
   "execution_count": 172,
   "id": "68e19baa",
   "metadata": {},
   "outputs": [
    {
     "name": "stdout",
     "output_type": "stream",
     "text": [
      "L = 0.0023947127975886403 +- 2.7247948318508578e-05\n"
     ]
    }
   ],
   "source": [
    "L_ideal = N_2*np.pi*R_2**2*a_ideal\n",
    "L_ideal_err = N_2*np.pi*R_2**2*a_ideal_err + 2*N_2*np.pi*R_2*a_ideal*R_2_err\n",
    "\n",
    "print(f'L = {L_ideal} +- {L_ideal_err}')\n"
   ]
  },
  {
   "cell_type": "code",
   "execution_count": 173,
   "id": "12ddda4b",
   "metadata": {},
   "outputs": [],
   "source": [
    "#Resistor usado\n",
    "R = 10.0\n",
    "R_err = 0.1"
   ]
  },
  {
   "cell_type": "code",
   "execution_count": 174,
   "id": "b319f8f1",
   "metadata": {},
   "outputs": [
    {
     "name": "stdout",
     "output_type": "stream",
     "text": [
      "A_I = 0.32799999999999996 +- 0.00428\n"
     ]
    }
   ],
   "source": [
    "#Negócio que a apostila pede\n",
    "\n",
    "A_R = 3.28\n",
    "A_R_err = 0.01\n",
    "\n",
    "A_I = A_R/R\n",
    "A_I_err = A_R_err/R + A_R/(R**2) * R_err\n",
    "\n",
    "print(f'A_I = {A_I} +- {A_I_err}')"
   ]
  },
  {
   "cell_type": "code",
   "execution_count": 175,
   "id": "2f7535f7",
   "metadata": {},
   "outputs": [
    {
     "name": "stdout",
     "output_type": "stream",
     "text": [
      "A = 0.5268479588928974 +- 0.019753166326954546\n"
     ]
    }
   ],
   "source": [
    "#Outro negócio que a apostila pede\n",
    "\n",
    "omega = 2*np.pi/(8.8*1e-3)\n",
    "omega_err = 2*np.pi/((8.8*1e-3)**2) *0.1*1e-3\n",
    "\n",
    "A_V = L*A_I*omega \n",
    "A_V_err = L_err*A_I*omega + L*A_I_err*omega + L*A_I*omega_err\n",
    "\n",
    "print(f'A = {A_V} +- {A_V_err}')"
   ]
  },
  {
   "cell_type": "code",
   "execution_count": 176,
   "id": "c1102bbc",
   "metadata": {},
   "outputs": [],
   "source": [
    "#Resistor usado\n",
    "R = 10.1\n",
    "R_err = 0.1"
   ]
  },
  {
   "cell_type": "code",
   "execution_count": 177,
   "id": "c2bb1a0a",
   "metadata": {},
   "outputs": [],
   "source": [
    "#Determinação experimnetal da indutância\n",
    "\n",
    "A_R = np.array([3.025,2.901, 2.782, 2.638, 2.424,2.210, 1.922, 1.544]) \n",
    "A_R_err = np.array([0.001,0.001,0.001,0.001, 0.001, 0.001, 0.001, 0.001]) \n",
    "\n",
    "A_V = np.array([2.161,2.476, 2.784, 3.042, 3.361, 3.650, 3.892, 4.229]) \n",
    "A_V_err = np.array([0.001, 0.001, 0.001, 0.001, 0.001, 0.001, 0.001, 0.001]) \n",
    "\n",
    "omega = 2*np.pi*np.array([503.3, 604.0, 717.0, 827.3, 1007,1202, 1502, 2008])\n",
    "omega_err = 2*np.pi*np.array([0.1, 0.1, 0.1, 0.1, 1, 1, 1, 1]) \n",
    "\n",
    "A_I = A_R/R\n",
    "A_I_err = A_R_err/R + A_R/(R**2) * R_err\n",
    "\n",
    "x_data = A_I * omega\n",
    "x_data_err = A_I_err*omega + A_I*omega_err\n",
    "\n",
    "y_data = A_V\n",
    "y_data_err = A_V_err"
   ]
  },
  {
   "cell_type": "code",
   "execution_count": 178,
   "id": "096f72e7",
   "metadata": {},
   "outputs": [
    {
     "name": "stdout",
     "output_type": "stream",
     "text": [
      "a =  0.0020741799983934324\n",
      "b =  0.20959027967503296\n",
      "r^2 = 0.999213408582581\n",
      "a_err =  2.3758353663353833e-05\n",
      "b_err =  0.03508925298093007\n"
     ]
    }
   ],
   "source": [
    "def func(x_data,a, b):\n",
    "    return a*x_data + b\n",
    "\n",
    "popt, pcov = curve_fit(func, x_data, y_data)\n",
    "a, b = popt\n",
    "a_err, b_err = np.sqrt(np.diag(pcov))\n",
    "r2 = r2_score(y_data, func(x_data, *popt))\n",
    "print('a = ', a)\n",
    "print('b = ', b)\n",
    "print(r'r^2 =', r2)\n",
    "print('a_err = ', a_err)\n",
    "print('b_err = ', b_err)\n"
   ]
  },
  {
   "cell_type": "code",
   "execution_count": 179,
   "id": "21f745d7",
   "metadata": {},
   "outputs": [
    {
     "data": {
      "text/plain": [
       "<matplotlib.legend.Legend at 0x73e1ffd6cd90>"
      ]
     },
     "execution_count": 179,
     "metadata": {},
     "output_type": "execute_result"
    },
    {
     "data": {
      "image/png": "[encoded data removed]",
      "text/plain": [
       "<Figure size 800x600 with 1 Axes>"
      ]
     },
     "metadata": {},
     "output_type": "display_data"
    }
   ],
   "source": [
    "plt.errorbar(x_data, y_data, xerr=x_data_err, yerr=y_data_err, marker = 'o',ms = 4, ls = '', label = 'Pontos Experimentais')\n",
    "plt.plot(x_data, func(x_data,a,b) , label= r'Fit: $y = ax + b$, $r^2$ = %.4f' % (r2))\n",
    "\n",
    "plt.xlabel(r'$ \\omega A_I \\ (A/s)$')\n",
    "plt.ylabel(r'$A_{V} \\ (V) $')\n",
    "plt.title(r'Gráfico de $A_V$ por $A_I \\omega$')\n",
    "\n",
    "plt.legend()"
   ]
  },
  {
   "cell_type": "code",
   "execution_count": 180,
   "id": "604b510f",
   "metadata": {},
   "outputs": [
    {
     "data": {
      "text/plain": [
       "array([0.29950495, 0.28722772, 0.27544554, 0.26118812, 0.24      ,\n",
       "       0.21881188, 0.19029703, 0.15287129])"
      ]
     },
     "execution_count": 180,
     "metadata": {},
     "output_type": "execute_result"
    }
   ],
   "source": [
    "A_I"
   ]
  },
  {
   "cell_type": "code",
   "execution_count": 181,
   "id": "d2f996ef",
   "metadata": {},
   "outputs": [
    {
     "data": {
      "text/plain": [
       "array([0.00306441, 0.00294285, 0.00282619, 0.00268503, 0.00247525,\n",
       "       0.00226546, 0.00198314, 0.00161259])"
      ]
     },
     "execution_count": 181,
     "metadata": {},
     "output_type": "execute_result"
    }
   ],
   "source": [
    "A_I_err"
   ]
  },
  {
   "cell_type": "code",
   "execution_count": 182,
   "id": "1cd95a17",
   "metadata": {},
   "outputs": [
    {
     "data": {
      "text/plain": [
       "array([2.161, 2.476, 2.784, 3.042, 3.361, 3.65 , 3.892, 4.229])"
      ]
     },
     "execution_count": 182,
     "metadata": {},
     "output_type": "execute_result"
    }
   ],
   "source": [
    "A_V"
   ]
  },
  {
   "cell_type": "code",
   "execution_count": 183,
   "id": "f17d03e3",
   "metadata": {},
   "outputs": [
    {
     "data": {
      "text/plain": [
       "array([0.001, 0.001, 0.001, 0.001, 0.001, 0.001, 0.001, 0.001])"
      ]
     },
     "execution_count": 183,
     "metadata": {},
     "output_type": "execute_result"
    }
   ],
   "source": [
    "A_V_err"
   ]
  },
  {
   "cell_type": "code",
   "execution_count": 184,
   "id": "9edc5742",
   "metadata": {},
   "outputs": [
    {
     "data": {
      "text/plain": [
       "array([ 3162.3271651 ,  3795.04392554,  4505.04386525,  5198.07920463,\n",
       "        6327.16760433,  7552.38873923,  9437.34433138, 12616.63609682])"
      ]
     },
     "execution_count": 184,
     "metadata": {},
     "output_type": "execute_result"
    }
   ],
   "source": [
    "omega"
   ]
  },
  {
   "cell_type": "code",
   "execution_count": 185,
   "id": "4571c44c",
   "metadata": {},
   "outputs": [
    {
     "data": {
      "text/plain": [
       "array([0.62831853, 0.62831853, 0.62831853, 0.62831853, 6.28318531,\n",
       "       6.28318531, 6.28318531, 6.28318531])"
      ]
     },
     "execution_count": 185,
     "metadata": {},
     "output_type": "execute_result"
    }
   ],
   "source": [
    "omega_err"
   ]
  }
 ],
 "metadata": {
  "kernelspec": {
   "display_name": "Python 3",
   "language": "python",
   "name": "python3"
  },
  "language_info": {
   "codemirror_mode": {
    "name": "ipython",
    "version": 3
   },
   "file_extension": ".py",
   "mimetype": "text/x-python",
   "name": "python",
   "nbconvert_exporter": "python",
   "pygments_lexer": "ipython3",
   "version": "3.10.12"
  }
 },
 "nbformat": 4,
 "nbformat_minor": 5
}
