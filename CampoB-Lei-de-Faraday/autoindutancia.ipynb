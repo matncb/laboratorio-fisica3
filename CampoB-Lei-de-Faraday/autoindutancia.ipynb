{
 "cells": [
  {
   "cell_type": "code",
   "execution_count": 30,
   "id": "d16bec39",
   "metadata": {},
   "outputs": [],
   "source": [
    "import numpy as np \n",
    "import matplotlib.pyplot as plt\n",
    "import scienceplots\n",
    "\n",
    "from scipy.optimize import  curve_fit\n",
    "from sklearn.metrics import r2_score\n",
    "\n",
    "plt.style.use(['science', 'notebook', 'grid'])"
   ]
  },
  {
   "cell_type": "code",
   "execution_count": 31,
   "id": "a9d62d99",
   "metadata": {},
   "outputs": [],
   "source": [
    "\n",
    "mu = 4*np.pi *1e-7\n",
    "\n",
    "N = 760\n",
    "\n",
    "L = 14.80 *1e-2\n",
    "L_err = 0.05*1e-2\n",
    "\n",
    "R = (3.9 + 6.9)/4 * 1e-2\n",
    "R_err = 0.03 * 1e-2 \n",
    "\n",
    "n = N/L\n",
    "n_err = N/(L**2) * L_err\n",
    "\n",
    "eta = R/L\n",
    "eta_err = R_err/L + R/L**2 *L_err\n",
    "\n",
    "a = mu*n/2 * (1/np.sqrt(1/4 + eta**2))\n",
    "a_err = mu/2 * (1/np.sqrt(1/4 + eta**2)) * n_err + mu*n/4 * (1/4 + eta**2)**(-3/2) * 2*eta *eta_err\n"
   ]
  },
  {
   "cell_type": "code",
   "execution_count": 32,
   "id": "116b2049",
   "metadata": {},
   "outputs": [
    {
     "data": {
      "text/plain": [
       "0.5274473308597837"
      ]
     },
     "execution_count": 32,
     "metadata": {},
     "output_type": "execute_result"
    }
   ],
   "source": [
    "n_2 = 2100\n",
    "L_2 = 59.50 *1e-3\n",
    "R_2 = 15/2 *1e-3\n",
    "\n",
    "L = n_2*np.pi*R_2**2*a\n",
    "A_I = 0.328\n",
    "omega = 2*np.pi/(8.79*1e-3)\n",
    "\n",
    "A = L*A_I*omega\n",
    "A"
   ]
  },
  {
   "cell_type": "code",
   "execution_count": 33,
   "id": "2f7535f7",
   "metadata": {},
   "outputs": [
    {
     "data": {
      "text/plain": [
       "0.0022496464050548374"
      ]
     },
     "execution_count": 33,
     "metadata": {},
     "output_type": "execute_result"
    }
   ],
   "source": [
    "L"
   ]
  },
  {
   "cell_type": "code",
   "execution_count": null,
   "id": "bf471bc6",
   "metadata": {},
   "outputs": [],
   "source": [
    "2,25 mH"
   ]
  }
 ],
 "metadata": {
  "kernelspec": {
   "display_name": "Python 3",
   "language": "python",
   "name": "python3"
  },
  "language_info": {
   "codemirror_mode": {
    "name": "ipython",
    "version": 3
   },
   "file_extension": ".py",
   "mimetype": "text/x-python",
   "name": "python",
   "nbconvert_exporter": "python",
   "pygments_lexer": "ipython3",
   "version": "3.10.12"
  }
 },
 "nbformat": 4,
 "nbformat_minor": 5
}
