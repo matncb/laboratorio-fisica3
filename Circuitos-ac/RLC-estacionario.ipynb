{
 "cells": [
  {
   "cell_type": "code",
   "execution_count": 46,
   "id": "d1c9bb18",
   "metadata": {},
   "outputs": [],
   "source": [
    "import numpy as np \n",
    "import matplotlib.pyplot as plt\n",
    "import scienceplots\n",
    "\n",
    "from scipy.optimize import  curve_fit\n",
    "from sklearn.metrics import r2_score\n",
    "\n",
    "plt.style.use(['science', 'notebook', 'grid'])"
   ]
  },
  {
   "cell_type": "code",
   "execution_count": 47,
   "id": "890cd1b9",
   "metadata": {},
   "outputs": [],
   "source": [
    "R_X = 981\n",
    "R_X_err = 1\n",
    "\n",
    "R_L = 14.3\n",
    "\n",
    "R = R_X + R_L\n",
    "\n",
    "L = 46.1 *1e-3\n",
    "L_err = 0.1 *1e-3\n",
    "\n",
    "C =  98.1 *1e-9\n",
    "C_err =  0.1 *1e-9\n",
    "\n",
    "V_0 = 9.97\n",
    "V_0_err = 0.01\n",
    "\n",
    "Omega = 2*np.pi*1.0723*1e3\n",
    "Omega_err = 2*np.pi*0.0001*1e3\n",
    "\n",
    "omega_0 = np.sqrt(1/(L*C))\n",
    "gamma = R/(2*L)\n",
    "\n",
    "omega = np.sqrt(omega_0**2 + gamma**2)"
   ]
  },
  {
   "cell_type": "code",
   "execution_count": 48,
   "id": "326946aa",
   "metadata": {},
   "outputs": [],
   "source": [
    "A_Q =  V_0/L * 1/np.sqrt((omega_0**2 - Omega**2)**2 + (2*gamma*Omega)**2)\n",
    "phi_Q = np.arctan(2*gamma*Omega/(omega_0**2 - Omega**2))"
   ]
  },
  {
   "cell_type": "code",
   "execution_count": 49,
   "id": "40fc35de",
   "metadata": {},
   "outputs": [
    {
     "data": {
      "text/plain": [
       "39.61689883487694"
      ]
     },
     "execution_count": 49,
     "metadata": {},
     "output_type": "execute_result"
    }
   ],
   "source": [
    "#Fase do capacitor\n",
    "\n",
    "phi_Q * 180/np.pi\n"
   ]
  },
  {
   "cell_type": "code",
   "execution_count": 50,
   "id": "f6049e66",
   "metadata": {},
   "outputs": [
    {
     "data": {
      "text/plain": [
       "-50.38310116512306"
      ]
     },
     "execution_count": 50,
     "metadata": {},
     "output_type": "execute_result"
    }
   ],
   "source": [
    "#Fase do resistor\n",
    "\n",
    "(phi_Q - np.pi/2 )* 180/np.pi"
   ]
  },
  {
   "cell_type": "code",
   "execution_count": 51,
   "id": "09cda69a",
   "metadata": {},
   "outputs": [
    {
     "data": {
      "text/plain": [
       "-140.38310116512304"
      ]
     },
     "execution_count": 51,
     "metadata": {},
     "output_type": "execute_result"
    }
   ],
   "source": [
    "#Fase do indutor\n",
    "\n",
    "(phi_Q - np.pi)* 180/np.pi"
   ]
  },
  {
   "cell_type": "code",
   "execution_count": 52,
   "id": "2cf3656c",
   "metadata": {},
   "outputs": [
    {
     "data": {
      "text/plain": [
       "9.66404994377011"
      ]
     },
     "execution_count": 52,
     "metadata": {},
     "output_type": "execute_result"
    }
   ],
   "source": [
    "#Amplitude do capacitor\n",
    "\n",
    "A_Q/C"
   ]
  },
  {
   "cell_type": "code",
   "execution_count": 53,
   "id": "88512729",
   "metadata": {},
   "outputs": [
    {
     "data": {
      "text/plain": [
       "6.266042768712598"
      ]
     },
     "execution_count": 53,
     "metadata": {},
     "output_type": "execute_result"
    }
   ],
   "source": [
    "#Amplitude do resistor\n",
    "\n",
    "A_Q*R_X*Omega"
   ]
  },
  {
   "cell_type": "code",
   "execution_count": 54,
   "id": "a6139acd",
   "metadata": {},
   "outputs": [
    {
     "data": {
      "text/plain": [
       "2.075247496722459"
      ]
     },
     "execution_count": 54,
     "metadata": {},
     "output_type": "execute_result"
    }
   ],
   "source": [
    "#Amplitude do indutor\n",
    "\n",
    "A_Q*L*Omega**2 + A_Q*R_L*Omega"
   ]
  },
  {
   "cell_type": "code",
   "execution_count": null,
   "id": "6583deeb",
   "metadata": {},
   "outputs": [],
   "source": []
  }
 ],
 "metadata": {
  "kernelspec": {
   "display_name": "Python 3",
   "language": "python",
   "name": "python3"
  },
  "language_info": {
   "codemirror_mode": {
    "name": "ipython",
    "version": 3
   },
   "file_extension": ".py",
   "mimetype": "text/x-python",
   "name": "python",
   "nbconvert_exporter": "python",
   "pygments_lexer": "ipython3",
   "version": "3.10.12"
  }
 },
 "nbformat": 4,
 "nbformat_minor": 5
}
