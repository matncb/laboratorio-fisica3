{
 "cells": [
  {
   "cell_type": "code",
   "execution_count": 127,
   "id": "d1c9bb18",
   "metadata": {},
   "outputs": [],
   "source": [
    "import numpy as np \n",
    "import matplotlib.pyplot as plt\n",
    "import scienceplots\n",
    "\n",
    "from scipy.optimize import  curve_fit\n",
    "from sklearn.metrics import r2_score\n",
    "\n",
    "plt.style.use(['science', 'notebook', 'grid'])"
   ]
  },
  {
   "cell_type": "code",
   "execution_count": 128,
   "id": "890cd1b9",
   "metadata": {},
   "outputs": [],
   "source": [
    "R = 981\n",
    "R_err = 1\n",
    "\n",
    "L = 46.1 *1e-3\n",
    "L_err = 0.1 *1e-3\n",
    "\n",
    "C =  98.1 *1e-9\n",
    "C_err =  0.1 *1e-9\n",
    "\n",
    "V_0 = 9.97\n",
    "V_0_err = 0.01\n",
    "\n",
    "Omega = 2*np.pi*1.0723*1e3\n",
    "Omega_err = 2*np.pi*0.0001*1e3\n",
    "\n",
    "omega_0 = np.sqrt(1/(L*C))\n",
    "gamma = R/(2*L)\n",
    "\n",
    "omega = np.sqrt(omega_0**2 + gamma**2)"
   ]
  },
  {
   "cell_type": "code",
   "execution_count": 129,
   "id": "326946aa",
   "metadata": {},
   "outputs": [],
   "source": [
    "A_Q =  V_0/L * 1/np.sqrt((omega_0**2 - Omega**2)**2 + (2*gamma*Omega)**2)\n",
    "phi_Q = np.arctan(2*gamma*Omega/(omega_0**2 - Omega**2))"
   ]
  },
  {
   "cell_type": "code",
   "execution_count": 130,
   "id": "40fc35de",
   "metadata": {},
   "outputs": [
    {
     "data": {
      "text/plain": [
       "np.float64(39.21017541114345)"
      ]
     },
     "execution_count": 130,
     "metadata": {},
     "output_type": "execute_result"
    }
   ],
   "source": [
    "#Fase do capacitor\n",
    "\n",
    "phi_Q * 180/np.pi\n"
   ]
  },
  {
   "cell_type": "code",
   "execution_count": 131,
   "id": "f6049e66",
   "metadata": {},
   "outputs": [
    {
     "data": {
      "text/plain": [
       "np.float64(-50.78982458885654)"
      ]
     },
     "execution_count": 131,
     "metadata": {},
     "output_type": "execute_result"
    }
   ],
   "source": [
    "#Fase do resistor\n",
    "\n",
    "(phi_Q - np.pi/2 )* 180/np.pi"
   ]
  },
  {
   "cell_type": "code",
   "execution_count": 132,
   "id": "09cda69a",
   "metadata": {},
   "outputs": [
    {
     "data": {
      "text/plain": [
       "np.float64(-140.78982458885656)"
      ]
     },
     "execution_count": 132,
     "metadata": {},
     "output_type": "execute_result"
    }
   ],
   "source": [
    "#Fase do indutor\n",
    "\n",
    "(phi_Q - np.pi)* 180/np.pi"
   ]
  },
  {
   "cell_type": "code",
   "execution_count": 133,
   "id": "2cf3656c",
   "metadata": {},
   "outputs": [
    {
     "data": {
      "text/plain": [
       "np.float64(9.720592437968165)"
      ]
     },
     "execution_count": 133,
     "metadata": {},
     "output_type": "execute_result"
    }
   ],
   "source": [
    "#Amplitude do capacitor\n",
    "\n",
    "A_Q/C"
   ]
  },
  {
   "cell_type": "code",
   "execution_count": 134,
   "id": "88512729",
   "metadata": {},
   "outputs": [
    {
     "data": {
      "text/plain": [
       "np.float64(6.30270417764117)"
      ]
     },
     "execution_count": 134,
     "metadata": {},
     "output_type": "execute_result"
    }
   ],
   "source": [
    "#Amplitude do resistor\n",
    "\n",
    "A_Q*R*Omega"
   ]
  },
  {
   "cell_type": "code",
   "execution_count": 135,
   "id": "a6139acd",
   "metadata": {},
   "outputs": [
    {
     "data": {
      "text/plain": [
       "np.float64(1.9955150888962108)"
      ]
     },
     "execution_count": 135,
     "metadata": {},
     "output_type": "execute_result"
    }
   ],
   "source": [
    "#Amplitude do indutor\n",
    "\n",
    "A_Q*L*Omega**2"
   ]
  },
  {
   "cell_type": "code",
   "execution_count": null,
   "id": "6583deeb",
   "metadata": {},
   "outputs": [],
   "source": []
  }
 ],
 "metadata": {
  "kernelspec": {
   "display_name": "Python 3",
   "language": "python",
   "name": "python3"
  },
  "language_info": {
   "codemirror_mode": {
    "name": "ipython",
    "version": 3
   },
   "file_extension": ".py",
   "mimetype": "text/x-python",
   "name": "python",
   "nbconvert_exporter": "python",
   "pygments_lexer": "ipython3",
   "version": "3.10.12"
  }
 },
 "nbformat": 4,
 "nbformat_minor": 5
}
