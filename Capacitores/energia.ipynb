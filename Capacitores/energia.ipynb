{
 "cells": [
  {
   "cell_type": "code",
   "execution_count": 63,
   "id": "0863bba6",
   "metadata": {},
   "outputs": [],
   "source": [
    "import numpy as np"
   ]
  },
  {
   "cell_type": "code",
   "execution_count": 64,
   "id": "008d8e14",
   "metadata": {},
   "outputs": [],
   "source": [
    "C1 = 932\n",
    "C2 = 1971\n",
    "C_err = 1\n",
    "\n",
    "V_i = 8.95\n",
    "V_err = 0.01"
   ]
  },
  {
   "cell_type": "code",
   "execution_count": 65,
   "id": "98876bfa",
   "metadata": {},
   "outputs": [
    {
     "name": "stdout",
     "output_type": "stream",
     "text": [
      "eta = 0.32104719255942127 +- 0.0005656542835407656\n"
     ]
    }
   ],
   "source": [
    "eta = C1/(C1+C2)\n",
    "eta_err = 2*C1/((C1+C2)**2) + 1/(C1 + C2)\n",
    "\n",
    "print(f'eta = {eta} +- {eta_err}')"
   ]
  },
  {
   "cell_type": "code",
   "execution_count": 66,
   "id": "d5644ddb",
   "metadata": {},
   "outputs": [
    {
     "name": "stdout",
     "output_type": "stream",
     "text": [
      "V_f = 2.87337237340682 +- 0.008273077763284065\n"
     ]
    }
   ],
   "source": [
    "V_f = eta * V_i\n",
    "V_f_err = V_i*eta_err + eta*V_err\n",
    "\n",
    "\n",
    "print(f'V_f = {V_f} +- {V_f_err}')"
   ]
  },
  {
   "cell_type": "code",
   "execution_count": 67,
   "id": "e06b131f",
   "metadata": {},
   "outputs": [
    {
     "name": "stdout",
     "output_type": "stream",
     "text": [
      "E_i = 0.037327765 +- 0.00012346525\n"
     ]
    }
   ],
   "source": [
    "E_i = C1*1e-6*V_i**2/2\n",
    "E_i_err = 1e-6*V_i**2/2 + C1*1e-6*V_i*V_err\n",
    "\n",
    "print(f'E_i = {E_i} +- {E_i_err}')\n"
   ]
  },
  {
   "cell_type": "code",
   "execution_count": 68,
   "id": "159808f9",
   "metadata": {},
   "outputs": [
    {
     "name": "stdout",
     "output_type": "stream",
     "text": [
      "E_f = 0.012207115 +- 9.2597e-05\n"
     ]
    }
   ],
   "source": [
    "E_f = (C1+C2)*1e-6*2.90**2/2\n",
    "E_f_err = 1e-6*2.90**2 + (C1+C2)*1e-6*2.90*V_err\n",
    "\n",
    "print(f'E_f = {E_f} +- {E_f_err}')"
   ]
  },
  {
   "cell_type": "code",
   "execution_count": 69,
   "id": "ff9589a1",
   "metadata": {},
   "outputs": [
    {
     "data": {
      "text/plain": [
       "0.32702507101617256"
      ]
     },
     "execution_count": 69,
     "metadata": {},
     "output_type": "execute_result"
    }
   ],
   "source": [
    "E_f/E_i"
   ]
  },
  {
   "cell_type": "code",
   "execution_count": 70,
   "id": "3b1a9fef",
   "metadata": {},
   "outputs": [
    {
     "name": "stdout",
     "output_type": "stream",
     "text": [
      "E_f = 0.011983974157767825 +- 6.075278205840015e-05\n"
     ]
    }
   ],
   "source": [
    "E_f = eta * E_i\n",
    "E_f_err = E_i*eta_err + eta*E_i_err\n",
    "\n",
    "\n",
    "print(f'E_f = {E_f} +- {E_f_err}')"
   ]
  }
 ],
 "metadata": {
  "kernelspec": {
   "display_name": "Python 3",
   "language": "python",
   "name": "python3"
  },
  "language_info": {
   "codemirror_mode": {
    "name": "ipython",
    "version": 3
   },
   "file_extension": ".py",
   "mimetype": "text/x-python",
   "name": "python",
   "nbconvert_exporter": "python",
   "pygments_lexer": "ipython3",
   "version": "3.10.12"
  }
 },
 "nbformat": 4,
 "nbformat_minor": 5
}
